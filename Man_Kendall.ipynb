{
  "nbformat": 4,
  "nbformat_minor": 0,
  "metadata": {
    "colab": {
      "name": "Man Kendall",
      "provenance": [],
      "collapsed_sections": []
    },
    "kernelspec": {
      "display_name": "Python 3",
      "name": "python3"
    }
  },
  "cells": [
    {
      "cell_type": "code",
      "metadata": {
        "id": "gcMX2q9s9gna",
        "colab": {
          "base_uri": "https://localhost:8080/",
          "height": 370
        },
        "outputId": "01278f12-1ae9-4f6b-eb79-955bfdf70b56"
      },
      "source": [
        "import numpy as np\n",
        "import pandas as pd \n",
        "import math\n",
        "from scipy.stats import pearson3\n",
        "import matplotlib.pyplot as plt\n",
        "data=pd.read_excel(\"Xd.xlsx\")\n",
        "veriler=np.array(data[\"Max(Aza)\"])\n",
        "year=np.array(data[\"year\"])\n",
        "veriler1=veriler[::-1]\n",
        "n=len(veriler1)\n",
        "print(\"veriler1=\",veriler1)\n",
        "print(\"year=\",year)\n",
        "print(\"n=\",n)\n",
        "plt.plot(veriler)"
      ],
      "execution_count": null,
      "outputs": [
        {
          "output_type": "stream",
          "name": "stdout",
          "text": [
            "veriler1= [273 531 188 198 227 300 186 109 156 108 106 404 315 612 642 359 271 267\n",
            " 257 406 217 167 328 234 306 311 153 389]\n",
            "year= [ 1  2  3  4  5  6  7  8  9 10 11 12 13 14 15 16 17 18 19 20 21 22 23 24\n",
            " 25 26 27 28]\n",
            "n= 28\n"
          ]
        },
        {
          "output_type": "execute_result",
          "data": {
            "text/plain": [
              "[<matplotlib.lines.Line2D at 0x7f3097ae2910>]"
            ]
          },
          "metadata": {},
          "execution_count": 1
        },
        {
          "output_type": "display_data",
          "data": {
            "image/png": "[encoded data removed]",
            "text/plain": [
              "<Figure size 432x288 with 1 Axes>"
            ]
          },
          "metadata": {
            "needs_background": "light"
          }
        }
      ]
    },
    {
      "cell_type": "code",
      "metadata": {
        "colab": {
          "base_uri": "https://localhost:8080/"
        },
        "id": "1yQflzEDhexs",
        "outputId": "9d0ecf7d-1dbd-4be2-a9e2-701a8bd47860"
      },
      "source": [
        "#Büyükten küçüğe sıralama\n",
        "veriler1.sort()\n",
        "print (veriler1[::-1])\n",
        "ortalama = veriler1.mean()\n",
        "print (\"ortalama =\",veriler1.mean())\n",
        "max = veriler1.max()\n",
        "print (\"max =\",veriler1.max())\n",
        "min = veriler1.min()\n",
        "print (\"min =\",veriler1.min())\n",
        "std_sapma = veriler1.std(ddof=1)\n",
        "print (\"std_sapma =\",veriler1.std(ddof=1)) #N<30 olduğundan N-1 kabul edildi; N>30 olsaydı ddof=1 kısmı olmayacaktı\n",
        "varyans = veriler1.var(ddof=1)\n",
        "print (\"varyans =\",veriler1.var(ddof=1)) #N<30 olduğundan N-1 kabul edildi; N>30 olsaydı ddof=1 kısmı olmayacaktı\n",
        "Altçeyrek = np.quantile(veriler1, .25)\n",
        "print(\"Alt Çeyrek = \", np.quantile(veriler1, .25))\n",
        "medyan = np.quantile(veriler1, .5)\n",
        "print(\"medyan = \", np.quantile(veriler1, .5))\n",
        "Üstçeyrek = np.quantile(veriler1, .75)\n",
        "print(\"Üst Çeyrek = \", np.quantile(veriler1, .75))\n",
        "print(\"IQR=\",(np.quantile(veriler1, .75)-np.quantile(veriler1, .25)))\n",
        "Cvx = veriler1.std(ddof=1)/veriler1.mean()\n",
        "print(\"Cvx=\",veriler1.std(ddof=1)/veriler1.mean())\n",
        "deviations = [(x - veriler1.mean()) ** 2 for x in veriler1] #(X-Xi)^2\n",
        "deviations1 = [(x - veriler1.mean()) ** 3 for x in veriler1] #(X-Xi)^3\n",
        "print(\"(X-Xi)^2=\",sum(deviations))\n",
        "print(\"(X-Xi)^3=\",sum(deviations1))\n",
        "Csx= ((sum(deviations1)/veriler1.std(ddof=1)**3)*(n/((n-1)*(n-2))))\n",
        "print(\"Csx=\",((sum(deviations1)/veriler1.std(ddof=1)**3)*(n/((n-1)*(n-2)))))"
      ],
      "execution_count": null,
      "outputs": [
        {
          "output_type": "stream",
          "name": "stdout",
          "text": [
            "[642 612 531 406 404 389 359 328 315 311 306 300 273 271 267 257 234 227\n",
            " 217 198 188 186 167 156 153 109 108 106]\n",
            "ortalama = 286.42857142857144\n",
            "max = 642\n",
            "min = 106\n",
            "std_sapma = 139.46629184446886\n",
            "varyans = 19450.846560846563\n",
            "Alt Çeyrek =  187.5\n",
            "medyan =  269.0\n",
            "Üst Çeyrek =  335.75\n",
            "IQR= 148.25\n",
            "Cvx= 0.48691473461909324\n",
            "(X-Xi)^2= 525172.8571428572\n",
            "(X-Xi)^3= 72186753.55102038\n",
            "Csx= 1.0613794337994817\n"
          ]
        }
      ]
    },
    {
      "cell_type": "code",
      "metadata": {
        "colab": {
          "base_uri": "https://localhost:8080/"
        },
        "id": "hJKzBMvdtrAw",
        "outputId": "693634c4-29b6-44a0-b92f-0786fb496e03"
      },
      "source": [
        "#B değerleri hesabı\n",
        "print(\"B0=\", sum(veriler1)/n)\n",
        "B0=sum(veriler1)/n\n",
        "b1=[]\n",
        "for j in range(1,n+1):\n",
        "    x=(veriler[j-1])*(n-j)/(n*(n-1))\n",
        "    b1.append(x)\n",
        "print(\"B1=\",sum(b1))\n",
        "B1=sum(b1)\n",
        "b2=[]\n",
        "for j in range(1,n+1):\n",
        "    y=(veriler[j-1])*(n-j)*(n-j-1)/(n*(n-1)*(n-2))\n",
        "    b2.append(y)\n",
        "print(\"B2=\",sum(b2))\n",
        "B2=sum(b2)\n",
        "b3=[]\n",
        "for j in range(1,n+1):\n",
        "    z=(veriler[j-1])*(n-j)*(n-j-1)*(n-j-2)/(n*(n-1)*(n-2)*(n-3))\n",
        "    b3.append(z)\n",
        "print(\"B3=\",sum(b3))\n",
        "B3=sum(b3)"
      ],
      "execution_count": null,
      "outputs": [
        {
          "output_type": "stream",
          "name": "stdout",
          "text": [
            "B0= 286.42857142857144\n",
            "B1= 181.61375661375664\n",
            "B2= 136.53947903947903\n",
            "B3= 110.82775335775337\n"
          ]
        }
      ]
    },
    {
      "cell_type": "code",
      "metadata": {
        "colab": {
          "base_uri": "https://localhost:8080/"
        },
        "id": "-383CbpTBMqG",
        "outputId": "77826e31-610b-4c04-fa99-6d6ae5006902"
      },
      "source": [
        "#Lamda Değerleri\n",
        "λ1=B0\n",
        "λ2=2*B1-B0\n",
        "λ3=6*B2-6*B1+B0\n",
        "λ4=20*B3-30*B2+12*B1-B0\n",
        "Lcv=λ2/λ1\n",
        "Lcs=λ3/λ2\n",
        "Lkurtosis=λ4/λ2\n",
        "print(\"λ1=\",λ1)\n",
        "print(\"λ2=\",λ2)\n",
        "print(\"λ3=\",λ3)\n",
        "print(\"λ4=\",λ4)\n",
        "print(\"Lcv=\",Lcv) #L Değişim Katsayısı\n",
        "print(\"Lcs=\",Lcs) #L Çarpıklık Katsayısı\n",
        "print(\"Lkurtosis=\",Lkurtosis) #L Kurtosis Katsayısı"
      ],
      "execution_count": null,
      "outputs": [
        {
          "output_type": "stream",
          "name": "stdout",
          "text": [
            "λ1= 286.42857142857144\n",
            "λ2= 76.79894179894183\n",
            "λ3= 15.98290598290589\n",
            "λ4= 13.307203907204098\n",
            "Lcv= 0.268125981342939\n",
            "Lcs= 0.20811362251251894\n",
            "Lkurtosis= 0.173273271681817\n"
          ]
        }
      ]
    },
    {
      "cell_type": "code",
      "metadata": {
        "colab": {
          "base_uri": "https://localhost:8080/"
        },
        "id": "9PtnF2hUv-SE",
        "outputId": "a383abc0-1eab-49da-ef51-fd90305e724d"
      },
      "source": [
        "#Zp Değerleri t, taşkın verisi olduğu için verilmiştir\n",
        "Zp10t=1.281278358 #10 yıl için taşkın analizi Zp değeri\n",
        "Zp25t=1.756693896 #25 yıl için taşkın analizi Zp değeri\n",
        "Zp50t=2.063623261 #50 yıl için taşkın analizi Zp değeri\n",
        "Zp100t=2.337277612 #100 yıl için taşkın analizi Zp değeri\n",
        "Zp200t=2.583619641 #200 yıl için taşkın analizi Zp değeri\n",
        "Zp500t=2.873798767 #500 yıl için taşkın analizi Zp değeri\n",
        "print(\"Zp10t=\",Zp10t)\n",
        "print(\"Zp25t=\",Zp25t)\n",
        "print(\"Zp50t=\",Zp50t)\n",
        "print(\"Zp100t=\",Zp100t)\n",
        "print(\"Zp200t=\",Zp200t)\n",
        "print(\"Zp500t=\",Zp500t)"
      ],
      "execution_count": null,
      "outputs": [
        {
          "output_type": "stream",
          "name": "stdout",
          "text": [
            "Zp10t= 1.281278358\n",
            "Zp25t= 1.756693896\n",
            "Zp50t= 2.063623261\n",
            "Zp100t= 2.337277612\n",
            "Zp200t= 2.583619641\n",
            "Zp500t= 2.873798767\n"
          ]
        }
      ]
    },
    {
      "cell_type": "code",
      "metadata": {
        "colab": {
          "base_uri": "https://localhost:8080/"
        },
        "id": "yyzj62cix_oe",
        "outputId": "c2c82607-f4ed-4884-98a6-6f7214c795dd"
      },
      "source": [
        "#Normal Dağılım taşkın değerleri\n",
        "Xp10tnor=ortalama+std_sapma*Zp10t\n",
        "Xp25tnor=ortalama+std_sapma*Zp25t\n",
        "Xp50tnor=ortalama+std_sapma*Zp50t\n",
        "Xp100tnor=ortalama+std_sapma*Zp100t\n",
        "Xp200tnor=ortalama+std_sapma*Zp200t\n",
        "Xp500tnor=ortalama+std_sapma*Zp500t\n",
        "print(\"Xp10tnor=\",Xp10tnor)\n",
        "print(\"Xp25tnor=\",Xp25tnor)\n",
        "print(\"Xp50tnor=\",Xp50tnor)\n",
        "print(\"Xp100tnor=\",Xp100tnor)\n",
        "print(\"Xp200tnor=\",Xp200tnor)\n",
        "print(\"Xp500tnor=\",Xp500tnor)"
      ],
      "execution_count": null,
      "outputs": [
        {
          "output_type": "stream",
          "name": "stdout",
          "text": [
            "Xp10tnor= 465.12371283940126\n",
            "Xp25tnor= 531.4281550095045\n",
            "Xp50tnor= 574.234455404232\n",
            "Xp100tnor= 612.4000129853066\n",
            "Xp200tnor= 646.7564222953793\n",
            "Xp500tnor= 687.2266289692682\n"
          ]
        }
      ]
    },
    {
      "cell_type": "code",
      "metadata": {
        "colab": {
          "base_uri": "https://localhost:8080/"
        },
        "id": "yjRraGWPyzMt",
        "outputId": "84eda6dc-b2d9-4769-b481-c8e0ffb85cb5"
      },
      "source": [
        "#Lognormal Dağılım taşkın değerleri\n",
        "#X ve Y değişkeninin dağılımlarının momentleri arasındaki ilişki:\n",
        "sigma_y=np.log(1+(varyans/ortalama**2))**0.5\n",
        "print(\"sigma_y=\",sigma_y)\n",
        "nu_y=np.log(ortalama)-(0.5*(sigma_y**2))\n",
        "print(\"nu_y=\",nu_y)\n",
        "Xp10tlogn=math.exp(nu_y+Zp10t*sigma_y)\n",
        "Xp25tlogn=math.exp(nu_y+Zp25t*sigma_y)\n",
        "Xp50tlogn=math.exp(nu_y+Zp50t*sigma_y)\n",
        "Xp100tlogn=math.exp(nu_y+Zp100t*sigma_y)\n",
        "Xp200tlogn=math.exp(nu_y+Zp200t*sigma_y)\n",
        "Xp500tlogn=math.exp(nu_y+Zp500t*sigma_y)\n",
        "print(\"Xp10tlogn=\",Xp10tlogn)\n",
        "print(\"Xp25tlogn=\",Xp25tlogn)\n",
        "print(\"Xp50tlogn=\",Xp50tlogn)\n",
        "print(\"Xp100tlogn=\",Xp100tlogn)\n",
        "print(\"Xp200tlogn=\",Xp200tlogn)\n",
        "print(\"Xp500tlogn=\",Xp500tlogn)\n"
      ],
      "execution_count": null,
      "outputs": [
        {
          "output_type": "stream",
          "name": "stdout",
          "text": [
            "sigma_y= 0.4612576077643945\n",
            "nu_y= 5.55110990032509\n",
            "Xp10tlogn= 465.0334277399968\n",
            "Xp25tlogn= 579.0554979541268\n",
            "Xp50tlogn= 667.1212603524333\n",
            "Xp100tlogn= 756.874141711904\n",
            "Xp200tlogn= 847.9520719823008\n",
            "Xp500tlogn= 969.3943012791302\n"
          ]
        }
      ]
    },
    {
      "cell_type": "code",
      "metadata": {
        "id": "04ue7CcDGgQs",
        "colab": {
          "base_uri": "https://localhost:8080/"
        },
        "outputId": "0bb6d051-5562-416b-8d8e-9481d654f778"
      },
      "source": [
        "#3 Parametreli Lognormal Dağılım taşkın değerleri\n",
        "Xo=(max*min-medyan**2)/(max+min-2*medyan)\n",
        "print(\"Xo=\",Xo)\n",
        "if (max+min-2*medyan)>0:\n",
        "  print(\"Xo bir alt sınır\")\n",
        "if (max+min-2*medyan)<0:\n",
        "  print(\"Xo bir üst sınır\")\n",
        "Y=[np.log(x - Xo) for x in veriler1]\n",
        "print(\"Y=\",Y)\n",
        "from scipy.stats import skew\n",
        "çarpıklık_y=skew(Y)\n",
        "print(\"çarpıklık_y=\",çarpıklık_y) #Y=ln(X)\n",
        "Yo=np.mean(Y)\n",
        "print(\"Yo=\",Yo)\n",
        "std_sapma_y=np.std(Y)\n",
        "print(\"std_sapma_y=\",std_sapma_y)\n",
        "Y10t3par=std_sapma_y*Zp10t+Yo\n",
        "Y25t3par=std_sapma_y*Zp25t+Yo\n",
        "Y50t3par=std_sapma_y*Zp50t+Yo\n",
        "Y100t3par=std_sapma_y*Zp100t+Yo\n",
        "Y200t3par=std_sapma_y*Zp200t+Yo\n",
        "Y500t3par=std_sapma_y*Zp500t+Yo\n",
        "print(\"Y10t3par=\",Y10t3par)\n",
        "print(\"Y25t3par=\",Y25t3par)\n",
        "print(\"Y50t3par=\",Y50t3par)\n",
        "print(\"Y100t3par=\",Y100t3par)\n",
        "print(\"Y200t3par=\",Y200t3par)\n",
        "print(\"Y500t3par=\",Y500t3par)\n",
        "Xp10t3par=math.exp(Y10t3par)+Xo\n",
        "Xp25t3par=math.exp(Y25t3par)+Xo\n",
        "Xp50t3par=math.exp(Y50t3par)+Xo\n",
        "Xp100t3par=math.exp(Y100t3par)+Xo\n",
        "Xp200t3par=math.exp(Y200t3par)+Xo\n",
        "Xp500t3par=math.exp(Y500t3par)+Xo\n",
        "print(\"Xp10t3par=\",Xp10t3par)\n",
        "print(\"Xp25t3par=\",Xp25t3par)\n",
        "print(\"Xp50t3par=\",Xp50t3par)\n",
        "print(\"Xp100t3par=\",Xp100t3par)\n",
        "print(\"Xp200t3par=\",Xp200t3par)\n",
        "print(\"Xp500t3par=\",Xp500t3par)"
      ],
      "execution_count": null,
      "outputs": [
        {
          "output_type": "stream",
          "name": "stdout",
          "text": [
            "Xo= -20.51904761904762\n",
            "Xo bir alt sınır\n",
            "Y= [4.840392870896056, 4.856077123848645, 4.863827956184899, 5.156287377908856, 5.173428789072083, 5.233880427552412, 5.3303926484331585, 5.340030392553237, 5.386873185194056, 5.47024782076006, 5.51148753912443, 5.539375676486805, 5.625889570899507, 5.661289110630791, 5.675105347117326, 5.6819425353533175, 5.7699417055434425, 5.78848828581744, 5.803685266856207, 5.81567872862743, 5.853692884715739, 5.93890478693068, 6.014983416543595, 6.05095687546099, 6.055657026237066, 6.312676375937661, 6.449710334960957, 6.4960493085701625]\n",
            "çarpıklık_y= 0.0054355703002056605\n",
            "Yo= 5.632034048864893\n",
            "std_sapma_y= 0.4365038258018799\n",
            "Y10t3par= 6.191316954049043\n",
            "Y25t3par= 6.398837655231702\n",
            "Y50t3par= 6.532813497305144\n",
            "Y100t3par= 6.652264668463975\n",
            "Y200t3par= 6.759793906578272\n",
            "Y500t3par= 6.886458205245118\n",
            "Xp10t3par= 467.9699527383861\n",
            "Xp25t3par= 580.6268452244357\n",
            "Xp50t3par= 666.8102451659188\n",
            "Xp100t3par= 754.0173614028756\n",
            "Xp200t3par= 841.9453816072214\n",
            "Xp500t3par= 958.4090599183792\n"
          ]
        }
      ]
    },
    {
      "cell_type": "code",
      "metadata": {
        "colab": {
          "base_uri": "https://localhost:8080/"
        },
        "id": "qBTgARZd_5fD",
        "outputId": "e18c6e48-1ba6-4317-be07-93e9fc0bd551"
      },
      "source": [
        "#Gumbell Dağılımı\n",
        "alfa=0.7797*std_sapma\n",
        "print(\"alfa=\",alfa)\n",
        "ksi=ortalama-0.5772*alfa\n",
        "print(\"ksi=\",ksi)\n",
        "Xp10tgumb=ksi-(alfa*np.log(-np.log(0.9)))\n",
        "Xp25tgumb=ksi-(alfa*np.log(-np.log(0.96)))\n",
        "Xp50tgumb=ksi-(alfa*np.log(-np.log(0.98)))\n",
        "Xp100tgumb=ksi-(alfa*np.log(-np.log(0.99)))\n",
        "Xp200tgumb=ksi-(alfa*np.log(-np.log(0.995)))\n",
        "Xp500tgumb=ksi-(alfa*np.log(-np.log(0.998)))\n",
        "print(\"Xp10tgumb=\",Xp10tgumb)\n",
        "print(\"Xp25tgumb=\",Xp25tgumb)\n",
        "print(\"Xp50tgumb=\",Xp50tgumb)\n",
        "print(\"Xp100tgumb=\",Xp100tgumb)\n",
        "print(\"Xp200tgumb=\",Xp200tgumb)\n",
        "print(\"Xp500tgumb=\",Xp500tgumb)"
      ],
      "execution_count": null,
      "outputs": [
        {
          "output_type": "stream",
          "name": "stdout",
          "text": [
            "alfa= 108.74186775113236\n",
            "ksi= 223.66276536261785\n",
            "Xp10tgumb= 468.371911660697\n",
            "Xp25tgumb= 571.4773550181777\n",
            "Xp50tgumb= 647.966862876907\n",
            "Xp100tgumb= 723.8915842162304\n",
            "Xp200tgumb= 799.5392690010025\n",
            "Xp500tgumb= 899.3420247314918\n"
          ]
        }
      ]
    },
    {
      "cell_type": "code",
      "metadata": {
        "colab": {
          "base_uri": "https://localhost:8080/"
        },
        "id": "QfvuQ7W1EhBM",
        "outputId": "cce645c2-06f6-4ed9-b2e3-2ce0e9568f2d"
      },
      "source": [
        "#GEV Dağılımı\n",
        "c=(2*λ2)/(λ3+3*λ2)-(np.log(2)/np.log(3))\n",
        "print(\"c=\",c)\n",
        "k=7.8590*c+2.9554*(c**2)\n",
        "print(\"k=\",k)\n",
        "Xp10tgev=ksi+((alfa/k)*(1-(-np.log(0.9))**k))\n",
        "Xp25tgev=ksi+((alfa/k)*(1-(-np.log(0.96))**k))\n",
        "Xp50tgev=ksi+((alfa/k)*(1-(-np.log(0.98))**k))\n",
        "Xp100tgev=ksi+((alfa/k)*(1-(-np.log(0.99))**k))\n",
        "Xp200tgev=ksi+((alfa/k)*(1-(-np.log(0.995))**k))\n",
        "Xp500tgev=ksi+((alfa/k)*(1-(-np.log(0.998))**k))\n",
        "print(\"Xp10tgev=\",Xp10tgev)\n",
        "print(\"Xp25tgev=\",Xp25tgev)\n",
        "print(\"Xp50tgev=\",Xp50tgev)\n",
        "print(\"Xp100tgev=\",Xp100tgev)\n",
        "print(\"Xp200tgev=\",Xp200tgev)\n",
        "print(\"Xp500tgev=\",Xp500tgev)"
      ],
      "execution_count": null,
      "outputs": [
        {
          "output_type": "stream",
          "name": "stdout",
          "text": [
            "c= -0.007510437632875733\n",
            "k= -0.05885782507409374\n",
            "Xp10tgev= 485.31782793066\n",
            "Xp25tgev= 606.3718850840917\n",
            "Xp50tgev= 700.6438824304591\n",
            "Xp100tgev= 798.1602179368447\n",
            "Xp200tgev= 899.3890958153439\n",
            "Xp500tgev= 1039.4429577893711\n"
          ]
        }
      ]
    },
    {
      "cell_type": "code",
      "metadata": {
        "colab": {
          "base_uri": "https://localhost:8080/"
        },
        "id": "UpsFfgDSIqdg",
        "outputId": "87ced9e4-baa9-4e56-f872-917b9a54e9a3"
      },
      "source": [
        "#Pearson Tip 3 Dağılımı\n",
        "Kp10t=(2/Csx)*(1+(Csx*Zp10t/6)-((Csx**2/36)))**3-(2/Csx)\n",
        "Kp25t=(2/Csx)*(1+(Csx*Zp25t/6)-((Csx**2/36)))**3-(2/Csx)\n",
        "Kp50t=(2/Csx)*(1+(Csx*Zp50t/6)-((Csx**2/36)))**3-(2/Csx)\n",
        "Kp100t=(2/Csx)*(1+(Csx*Zp100t/6)-((Csx**2/36)))**3-(2/Csx)\n",
        "Kp200t=(2/Csx)*(1+(Csx*Zp200t/6)-((Csx**2/36)))**3-(2/Csx)\n",
        "Kp500t=(2/Csx)*(1+(Csx*Zp500t/6)-((Csx**2/36)))**3-(2/Csx)\n",
        "Xp10tpeartip3=ortalama+std_sapma*Kp10t\n",
        "Xp25tpeartip3=ortalama+std_sapma*Kp25t\n",
        "Xp50tpeartip3=ortalama+std_sapma*Kp50t\n",
        "Xp100tpeartip3=ortalama+std_sapma*Kp100t\n",
        "Xp200tpeartip3=ortalama+std_sapma*Kp200t\n",
        "Xp500tpeartip3=ortalama+std_sapma*Kp500t\n",
        "print(\"Kp10t=\",Kp10t)\n",
        "print(\"Kp25t=\",Kp25t)\n",
        "print(\"Kp50t=\",Kp50t)\n",
        "print(\"Kp100t=\",Kp100t)\n",
        "print(\"Kp200t=\",Kp200t)\n",
        "print(\"Kp500t=\",Kp500t)\n",
        "print(\"Xp10tpeartip3=\",Xp10tpeartip3)\n",
        "print(\"Xp25tpeartip3=\",Xp25tpeartip3)\n",
        "print(\"Xp50tpeartip3=\",Xp50tpeartip3)\n",
        "print(\"Xp100tpeartip3=\",Xp100tpeartip3)\n",
        "print(\"Xp200tpeartip3=\",Xp200tpeartip3)\n",
        "print(\"Xp500tpeartip3=\",Xp500tpeartip3)"
      ],
      "execution_count": null,
      "outputs": [
        {
          "output_type": "stream",
          "name": "stdout",
          "text": [
            "Kp10t= 1.3341852713546973\n",
            "Kp25t= 2.0624151347321664\n",
            "Kp50t= 2.5864879426218046\n",
            "Kp100t= 3.091174964164958\n",
            "Kp200t= 3.576774460949257\n",
            "Kp500t= 4.1881243050704\n",
            "Xp10tpeartip3= 472.50244385791757\n",
            "Xp25tpeartip3= 574.0659625135773\n",
            "Xp50tpeartip3= 647.1564536864639\n",
            "Xp100tpeartip3= 717.5432811231171\n",
            "Xp200tpeartip3= 785.2680422611633\n",
            "Xp500tpeartip3= 870.5307380404332\n"
          ]
        }
      ]
    },
    {
      "cell_type": "code",
      "metadata": {
        "colab": {
          "base_uri": "https://localhost:8080/"
        },
        "id": "5BDGoX8cf6BW",
        "outputId": "8b924e26-157c-4f00-f6b8-44d0d60e7e20"
      },
      "source": [
        "#Log Pearson Tip3 Dağılımı\n",
        "rv = pearson3(Csx,10)\n",
        "print(rv)"
      ],
      "execution_count": null,
      "outputs": [
        {
          "output_type": "stream",
          "name": "stdout",
          "text": [
            "<scipy.stats._distn_infrastructure.rv_frozen object at 0x7f30aa5f0310>\n"
          ]
        }
      ]
    },
    {
      "cell_type": "code",
      "metadata": {
        "colab": {
          "base_uri": "https://localhost:8080/"
        },
        "id": "eZ5PoSxikYI_",
        "outputId": "f076c60b-f0b4-47e3-aae5-a54c6b10f098"
      },
      "source": [
        "#S Test Kontrol için YANLIŞ\n",
        "for x in range(0,n):\n",
        "  e1=sum(veriler1[x]==veriler1[x+1:])\n",
        "  e1=0+e1\n",
        "if e1==0:\n",
        " print(\"Tekrar eden veri yok\")\n",
        "m1=0\n",
        "for x in range (0,n):\n",
        "  b1=sum(veriler1[x]<veriler1[x:])\n",
        "  m1=m1+b1\n",
        "p1=0\n",
        "for x in range (0,n):\n",
        "  d1=sum(veriler1[x]>veriler1[x:])\n",
        "  p1=p1+d1\n",
        "s1=p1-m1\n",
        "print(\"s1=\",s1)"
      ],
      "execution_count": null,
      "outputs": [
        {
          "output_type": "stream",
          "name": "stdout",
          "text": [
            "Tekrar eden veri yok\n",
            "s1= -378\n"
          ]
        }
      ]
    },
    {
      "cell_type": "code",
      "metadata": {
        "id": "HmOmjGuW99OJ",
        "colab": {
          "base_uri": "https://localhost:8080/"
        },
        "outputId": "6177d12c-9ed6-4db0-81d9-30c0f0cea96a"
      },
      "source": [
        "#Mann-Kendall Trend Testi\n",
        "#S=P-M değerinin bulunması\n",
        "for x in range(0,n):\n",
        "  e1=sum(veriler1[x]==veriler1[x+1:])\n",
        "  e1=0+e1\n",
        "\n",
        "if e1==0:\n",
        "  print(\"Tekrar eden veri yok, varsa sigma_s formülü değişecek\")\n",
        "\n",
        "!pip install pymannkendall\n",
        "import pymannkendall as mk\n",
        "\n",
        "veriler=np.array(data[\"Max(Aza)\"])\n",
        "\n",
        "result = mk.original_test(veriler)\n",
        "s=result.s\n",
        "tau=result.Tau\n",
        "print(\"s=\",result.s)\n",
        "print(\"tau=\",result.Tau)"
      ],
      "execution_count": null,
      "outputs": [
        {
          "output_type": "stream",
          "name": "stdout",
          "text": [
            "Tekrar eden veri yok, varsa sigma_s formülü değişecek\n",
            "Requirement already satisfied: pymannkendall in /usr/local/lib/python3.7/dist-packages (1.4.2)\n",
            "Requirement already satisfied: scipy in /usr/local/lib/python3.7/dist-packages (from pymannkendall) (1.4.1)\n",
            "Requirement already satisfied: numpy in /usr/local/lib/python3.7/dist-packages (from pymannkendall) (1.19.5)\n",
            "s= -26.0\n",
            "tau= -0.06878306878306878\n"
          ]
        }
      ]
    },
    {
      "cell_type": "code",
      "metadata": {
        "colab": {
          "base_uri": "https://localhost:8080/"
        },
        "id": "JfYivvhTR1R0",
        "outputId": "04d57a1f-17cd-402e-dba5-e3b185db4052"
      },
      "source": [
        "#S TEST Yanlış\n",
        "from __future__ import division\n",
        "from scipy.stats import norm\n",
        "# calculate S\n",
        "s_0 = 0\n",
        "for k in range(n-1):\n",
        " for j in range(k+1, n):\n",
        "  s_0 += np.sign(j - k)\n",
        "print(s_0)"
      ],
      "execution_count": null,
      "outputs": [
        {
          "output_type": "stream",
          "name": "stdout",
          "text": [
            "378\n"
          ]
        }
      ]
    },
    {
      "cell_type": "code",
      "metadata": {
        "id": "oFyB8u4ZD4OL",
        "colab": {
          "base_uri": "https://localhost:8080/"
        },
        "outputId": "9482e40f-2feb-4ee5-a8df-57c911325402"
      },
      "source": [
        "# calculate the unique data\n",
        "unique_x, tp = np.unique(x, return_counts=True)\n",
        "g = len(unique_x)\n",
        "\n",
        "# calculate the var(s)\n",
        "if n == g:  # datada eşleşme yok ise\n",
        " sigma_s = ((n*(n-1)*(2*n+5))/18)**0.5\n",
        "else:  # datada eşleşme var ise\n",
        " sigma_s = ((n*(n-1)*(2*n+5) - np.sum(tp*(tp-1)*(2*tp+5)))/18)**0.5\n",
        "print(\"sigma_s=\",sigma_s)\n",
        "if s > 0:\n",
        "      print(\"S 0'dan büyüktür!\")\n",
        " \n",
        "if s < 0:\n",
        "      print(\"S 0'dan küçüktür!\")\n",
        " \n",
        "if s == 0:\n",
        "     print(\"S 0'dır!\") "
      ],
      "execution_count": null,
      "outputs": [
        {
          "output_type": "stream",
          "name": "stdout",
          "text": [
            "sigma_s= 50.61620293937506\n",
            "S 0'dan küçüktür!\n"
          ]
        }
      ]
    },
    {
      "cell_type": "code",
      "metadata": {
        "colab": {
          "base_uri": "https://localhost:8080/"
        },
        "id": "Ojt-JIHvCMr6",
        "outputId": "74ce3918-62a5-4ab2-b145-180bfdfd69cf"
      },
      "source": [
        "#z değeri\n",
        "if s > 0:\n",
        "  z=(s-1)/sigma_s\n",
        "if s < 0:\n",
        "  z=(s+1)/sigma_s\n",
        "if s == 0:\n",
        "  z=0\n",
        "print(\"z=\",z)\n",
        "z_alfa=1.96 #alfa = 0.05 için\n",
        "if abs(z)<z_alfa:\n",
        "  print(\"Ho, sıfır hipotezi kabul edilir. Rho=0. Trend Yok\")\n",
        "else:\n",
        "  print(\"Ho, sıfır hipotezi kabul edilmez. Trend Var\")"
      ],
      "execution_count": null,
      "outputs": [
        {
          "output_type": "stream",
          "name": "stdout",
          "text": [
            "z= -0.49391298730849975\n",
            "Ho, sıfır hipotezi kabul edilir. Rho=0. Trend Yok\n"
          ]
        }
      ]
    },
    {
      "cell_type": "code",
      "metadata": {
        "colab": {
          "base_uri": "https://localhost:8080/"
        },
        "id": "9ylsdr7vINgK",
        "outputId": "4fa51ae5-1de2-47bd-a18b-ff99a9fc5d98"
      },
      "source": [
        "#Otokorelasyon Katsayısnın Bulunması\n",
        "mean=veriler.mean()\n",
        "cortoplam=0\n",
        "for i in range (0,n-1):\n",
        " cor1=((veriler[i]-mean)*(veriler[i+1]-mean))\n",
        " cortoplam=cor1+cortoplam\n",
        "\n",
        "corbol=0\n",
        "for i in range (0,n-1):\n",
        "  cor2=((veriler[i]-mean)**2)\n",
        "  corbol=cor2+corbol\n",
        "\n",
        "corc=cortoplam/corbol\n",
        "r=str(corc)\n",
        "print(\"r(korelasyon katsayısı)=\"+str(corc))"
      ],
      "execution_count": null,
      "outputs": [
        {
          "output_type": "stream",
          "name": "stdout",
          "text": [
            "r(korelasyon katsayısı)=0.3532321587160383\n"
          ]
        }
      ]
    },
    {
      "cell_type": "code",
      "metadata": {
        "id": "4m3ct6fpKsZI",
        "colab": {
          "base_uri": "https://localhost:8080/",
          "height": 580
        },
        "outputId": "3132c55b-da8f-4d2f-eb8f-b290373a947d"
      },
      "source": [
        "#Eğri uydurulması ve eğim hesabı\n",
        "import matplotlib.pyplot as plt\n",
        "from scipy.optimize import curve_fit\n",
        "from scipy.optimize import curve_fit\n",
        "from matplotlib import pyplot\n",
        "x_values=np.array(data[\"Max(Aza)\"])\n",
        "y_values=np.array(data[\"year\"])\n",
        "plt.scatter(y_values, x_values)\n",
        "plt.ylabel('Q')\n",
        "plt.xlabel('Year')\n",
        "plt.show()\n",
        "\n",
        "# objective function\n",
        "def objective(x, m, b):\n",
        "\treturn m * x + b\n",
        "popt, _ = curve_fit(objective, y_values, x_values)\n",
        "m, b = popt\n",
        "print('y = %.5f * x + %.5f' % (m, b))\n",
        "# plot input vs output\n",
        "pyplot.scatter(y_values, x_values)\n",
        "print(\"m=\",m)\n",
        "plt.plot(y_values, objective(y_values, *popt), 'g--')"
      ],
      "execution_count": null,
      "outputs": [
        {
          "output_type": "display_data",
          "data": {
            "image/png": "[encoded data removed]",
            "text/plain": [
              "<Figure size 432x288 with 1 Axes>"
            ]
          },
          "metadata": {
            "needs_background": "light"
          }
        },
        {
          "output_type": "stream",
          "name": "stdout",
          "text": [
            "y = -1.42912 * x + 307.15079\n",
            "m= -1.4291187739516729\n"
          ]
        },
        {
          "output_type": "execute_result",
          "data": {
            "text/plain": [
              "[<matplotlib.lines.Line2D at 0x7f3096eb2b50>]"
            ]
          },
          "metadata": {},
          "execution_count": 19
        },
        {
          "output_type": "display_data",
          "data": {
            "image/png": "[encoded data removed]",
            "text/plain": [
              "<Figure size 432x288 with 1 Axes>"
            ]
          },
          "metadata": {
            "needs_background": "light"
          }
        }
      ]
    },
    {
      "cell_type": "code",
      "metadata": {
        "colab": {
          "base_uri": "https://localhost:8080/"
        },
        "id": "RbWKj15AaZPC",
        "outputId": "7e2a66dc-4293-4457-8236-91c5af3aca1e"
      },
      "source": [
        "print(\"veriler=\",veriler)\n",
        "print(\"corc=\",corc)\n",
        "y_i=[]\n",
        "for x in year:\n",
        " y_i=veriler-(year)*(m)\n",
        "print(\"y_i=\",y_i)\n",
        "e_i=np.zeros(28)\n",
        "e_i[0]=y_i[0]\n",
        "for i in range(1,n):\n",
        " e_i[i]=y_i[i]-(y_i[i-1])*(corc)\n",
        "for i in year:\n",
        "   e_i1=e_i+(year)*(m)\n",
        "print(\"e_i=\",e_i)\n",
        "print(\"e_i1=\",e_i1)\n",
        "print(\"y_i[j-1]\",y_i[j-1])"
      ],
      "execution_count": null,
      "outputs": [
        {
          "output_type": "stream",
          "name": "stdout",
          "text": [
            "veriler= [389 153 311 306 234 328 167 217 406 257 267 271 359 642 612 315 404 106\n",
            " 108 156 109 186 300 227 198 188 531 273]\n",
            "corc= 0.3532321587160383\n",
            "y_i= [390.42911877 155.85823755 315.28735632 311.7164751  241.14559387\n",
            " 336.57471264 177.00383142 228.43295019 418.86206897 271.29118774\n",
            " 282.72030651 288.14942529 377.57854406 662.00766284 633.43678161\n",
            " 337.86590038 428.29501916 131.72413793 135.15325671 184.58237548\n",
            " 139.01149425 217.44061303 332.8697318  261.29885057 233.72796935\n",
            " 225.15708812 569.5862069  313.01532567]\n",
            "e_i= [390.42911877  17.9461171  260.23321462 200.34684161 131.03731046\n",
            " 251.39433396  58.1148191  165.90950472 338.17220485 123.33563491\n",
            " 186.89153463 188.2835211  275.79490053 528.63477863 399.59438578\n",
            " 114.11565861 308.94991781 -19.56343625  88.62405511 136.84189886\n",
            "  73.8110633  168.33728283 256.06271467 143.71855664 141.42881229\n",
            " 142.59685296 490.05348261 111.81916023]\n",
            "e_i1= [389.          15.08787955 255.9458583  194.63036651 123.89171659\n",
            " 242.81962131  48.11098768 154.47655453 325.31013588 109.04444718\n",
            " 171.17122811 171.13409582 257.21635647 508.6271158  378.15760417\n",
            "  91.24975822 284.65489865 -45.28757418  61.4707984  108.25952338\n",
            "  43.79956905 136.8966698  223.19298287 109.41970606 105.70084294\n",
            " 105.43976483 451.46727571  71.80383456]\n",
            "y_i[j-1] 390.4291187739517\n"
          ]
        }
      ]
    },
    {
      "cell_type": "code",
      "metadata": {
        "colab": {
          "base_uri": "https://localhost:8080/"
        },
        "id": "NoYgY1wHchB-",
        "outputId": "c99f9330-58cf-47cf-dea3-2c5f738078ae"
      },
      "source": [
        "#Mann-Kendall Trend Testi Yeni Ei için\n",
        "#S=P-M değerinin bulunması\n",
        "for x in range(0,n-1):\n",
        "  e2=sum(e_new[x]==e_new[x+1:])\n",
        "  e2=0+e2\n",
        "\n",
        "if e2==0:\n",
        "  print(\"Tekrar eden veri yok, varsa sigma_s formülü değişecek\")\n",
        "\n",
        "!pip install pymannkendall\n",
        "import pymannkendall as mk\n",
        "\n",
        "veri=e_i1\n",
        "\n",
        "result = mk.original_test(veri)\n",
        "s_1=result.s\n",
        "tau=result.Tau\n",
        "print(\"s=\",result.s)\n",
        "print(\"tau=\",result.Tau)"
      ],
      "execution_count": null,
      "outputs": [
        {
          "output_type": "stream",
          "name": "stdout",
          "text": [
            "Tekrar eden veri yok, varsa sigma_s formülü değişecek\n",
            "Requirement already satisfied: pymannkendall in /usr/local/lib/python3.7/dist-packages (1.4.2)\n",
            "Requirement already satisfied: numpy in /usr/local/lib/python3.7/dist-packages (from pymannkendall) (1.19.5)\n",
            "Requirement already satisfied: scipy in /usr/local/lib/python3.7/dist-packages (from pymannkendall) (1.4.1)\n",
            "s= -56.0\n",
            "tau= -0.14814814814814814\n"
          ]
        }
      ]
    },
    {
      "cell_type": "code",
      "metadata": {
        "colab": {
          "base_uri": "https://localhost:8080/"
        },
        "id": "qTBT0b5ciSPy",
        "outputId": "eb0e28b9-dd46-4b48-a0cf-56711d5760c0"
      },
      "source": [
        "for x in range(0,n):\n",
        "  e_1=sum(e_i1[x]==e_i1[x+1:])\n",
        "  e_1=+e_1\n",
        "if e_1==0:\n",
        " print(\"Tekrar eden veri yok\")\n",
        "m_1=0\n",
        "for x in range (0,n):\n",
        "  b_1=sum(e_i1[x]>e_i1[x:])\n",
        "  m_1=m_1+b_1\n",
        "p_1=0\n",
        "for x in range (0,n):\n",
        "  d_1=sum(e_i1[x]<e_i1[x:])\n",
        "  p_1=p_1+d_1\n",
        "s_1=p_1-m_1\n",
        "print(\"s_1=\",s_1)"
      ],
      "execution_count": null,
      "outputs": [
        {
          "output_type": "stream",
          "name": "stdout",
          "text": [
            "Tekrar eden veri yok\n",
            "s_1= -56\n"
          ]
        }
      ]
    },
    {
      "cell_type": "code",
      "metadata": {
        "colab": {
          "base_uri": "https://localhost:8080/"
        },
        "id": "Hg4chPd-fNsE",
        "outputId": "c72effa4-2445-4e69-c2a4-943f465680a4"
      },
      "source": [
        "#tekrar eden veri olmaması durumu\n",
        "sigma_s1=(n*(n-1)*(2*n+5)/18)**0.5\n",
        "print(\"sigma_s1=\",sigma_s1)\n",
        "if s_1 > 0:\n",
        "      print(\"S 0'dan büyüktür!\")\n",
        " \n",
        "if s_1 < 0:\n",
        "      print(\"S 0'dan küçüktür!\")\n",
        " \n",
        "if s_1 == 0:\n",
        "     print(\"S 0'dır!\")"
      ],
      "execution_count": null,
      "outputs": [
        {
          "output_type": "stream",
          "name": "stdout",
          "text": [
            "sigma_s1= 50.61620293937506\n",
            "S 0'dan küçüktür!\n"
          ]
        }
      ]
    },
    {
      "cell_type": "code",
      "metadata": {
        "colab": {
          "base_uri": "https://localhost:8080/"
        },
        "id": "JhK9oceif1OD",
        "outputId": "763819f1-ee8e-4b0c-8292-3d9bda4bd5f7"
      },
      "source": [
        "#z değeri\n",
        "print(s_1)\n",
        "if s_1 > 0:\n",
        "  z=(s_1-1)/sigma_s1\n",
        "if s_1 < 0:\n",
        "  z=(s_1+1)/sigma_s1\n",
        "if s_1 == 0:\n",
        "  z=0\n",
        "print(\"z=\",z)\n",
        "z_alfa=1.96 #alfa = 0.05 için\n",
        "if abs(z)<z_alfa:\n",
        "  print(\"Ho, sıfır hipotezi kabul edilir. Rho=0. Trend Yok\")\n",
        "else:\n",
        "  print(\"Ho, sıfır hipotezi kabul edilmez. Trend Var\")"
      ],
      "execution_count": null,
      "outputs": [
        {
          "output_type": "stream",
          "name": "stdout",
          "text": [
            "-56\n",
            "z= -1.0866085720786995\n",
            "Ho, sıfır hipotezi kabul edilir. Rho=0. Trend Yok\n"
          ]
        }
      ]
    }
  ]
}